{
 "cells": [
  {
   "cell_type": "code",
   "execution_count": 2,
   "metadata": {},
   "outputs": [
    {
     "name": "stderr",
     "output_type": "stream",
     "text": [
      "D:\\Anaconda3\\lib\\site-packages\\h5py\\__init__.py:36: FutureWarning: Conversion of the second argument of issubdtype from `float` to `np.floating` is deprecated. In future, it will be treated as `np.float64 == np.dtype(float).type`.\n",
      "  from ._conv import register_converters as _register_converters\n",
      "Using TensorFlow backend.\n"
     ]
    }
   ],
   "source": [
    "from keras.models import Sequential\n",
    "from keras.layers import Dense, Activation"
   ]
  },
  {
   "cell_type": "code",
   "execution_count": 3,
   "metadata": {},
   "outputs": [],
   "source": [
    "model = Sequential([\n",
    "    Dense(32, input_shape=(27,)),\n",
    "    Activation('relu'),\n",
    "    Dense(10),\n",
    "    Activation('softmax'),\n",
    "])"
   ]
  },
  {
   "cell_type": "code",
   "execution_count": 4,
   "metadata": {},
   "outputs": [],
   "source": [
    "model.compile(optimizer='rmsprop',\n",
    "              loss='categorical_crossentropy',\n",
    "              metrics=['accuracy'])"
   ]
  },
  {
   "cell_type": "code",
   "execution_count": 7,
   "metadata": {},
   "outputs": [],
   "source": [
    "import numpy as np"
   ]
  },
  {
   "cell_type": "code",
   "execution_count": 8,
   "metadata": {},
   "outputs": [],
   "source": [
    "import read\n",
    "data, no_act, map_act = read.readData()"
   ]
  },
  {
   "cell_type": "code",
   "execution_count": 150,
   "metadata": {},
   "outputs": [
    {
     "name": "stdout",
     "output_type": "stream",
     "text": [
      "[[0 0 0 ... 0 0 0]\n",
      " [0 0 0 ... 0 0 0]\n",
      " [0 0 0 ... 0 0 0]\n",
      " ...\n",
      " [0 0 0 ... 0 0 0]\n",
      " [0 0 0 ... 0 0 0]\n",
      " [0 0 0 ... 0 0 0]]\n"
     ]
    }
   ],
   "source": [
    "print(data)"
   ]
  },
  {
   "cell_type": "code",
   "execution_count": 11,
   "metadata": {},
   "outputs": [
    {
     "name": "stdout",
     "output_type": "stream",
     "text": [
      "{'Bed_to_toilet': 30, 'Breakfast': 48, 'Bed': 207, 'C_work': 46, 'Dinner': 42, 'Laundry': 10, 'Leave_home': 69, 'Lunch': 37, 'Night_wandering': 67, 'R_medicine': 44}\n"
     ]
    }
   ],
   "source": [
    "print(no_act)"
   ]
  },
  {
   "cell_type": "code",
   "execution_count": 15,
   "metadata": {},
   "outputs": [],
   "source": [
    "input = np.array(X_train)"
   ]
  },
  {
   "cell_type": "code",
   "execution_count": 16,
   "metadata": {},
   "outputs": [
    {
     "name": "stdout",
     "output_type": "stream",
     "text": [
      "(600, 27)\n"
     ]
    }
   ],
   "source": [
    "print(input.shape)"
   ]
  },
  {
   "cell_type": "code",
   "execution_count": 17,
   "metadata": {},
   "outputs": [],
   "source": [
    "X_data  = []\n",
    "X_label = []\n",
    "for key, value in map_act.items():\n",
    "    for j in range(no_act[value]):\n",
    "        X_data.append(data[value][j])\n",
    "        X_label.append(key)"
   ]
  },
  {
   "cell_type": "code",
   "execution_count": 18,
   "metadata": {},
   "outputs": [],
   "source": [
    "input_data = np.array(X_data)\n",
    "input_label = np.array(X_label)"
   ]
  },
  {
   "cell_type": "code",
   "execution_count": 20,
   "metadata": {},
   "outputs": [],
   "source": [
    "import keras"
   ]
  },
  {
   "cell_type": "code",
   "execution_count": 21,
   "metadata": {},
   "outputs": [],
   "source": [
    "label = keras.utils.to_categorical(input_label, num_classes=10)"
   ]
  },
  {
   "cell_type": "code",
   "execution_count": 22,
   "metadata": {},
   "outputs": [
    {
     "name": "stdout",
     "output_type": "stream",
     "text": [
      "Epoch 1/10\n",
      "600/600 [==============================] - 0s 401us/step - loss: 4.9507 - acc: 0.2033\n",
      "Epoch 2/10\n",
      "600/600 [==============================] - 0s 40us/step - loss: 3.9247 - acc: 0.3950\n",
      "Epoch 3/10\n",
      "600/600 [==============================] - 0s 40us/step - loss: 3.5127 - acc: 0.5017\n",
      "Epoch 4/10\n",
      "600/600 [==============================] - 0s 40us/step - loss: 3.1992 - acc: 0.5750\n",
      "Epoch 5/10\n",
      "600/600 [==============================] - 0s 53us/step - loss: 2.9947 - acc: 0.6083\n",
      "Epoch 6/10\n",
      "600/600 [==============================] - 0s 47us/step - loss: 2.7619 - acc: 0.6383\n",
      "Epoch 7/10\n",
      "600/600 [==============================] - 0s 47us/step - loss: 2.2954 - acc: 0.6433\n",
      "Epoch 8/10\n",
      "600/600 [==============================] - 0s 47us/step - loss: 2.1214 - acc: 0.6733\n",
      "Epoch 9/10\n",
      "600/600 [==============================] - 0s 40us/step - loss: 1.9981 - acc: 0.6900\n",
      "Epoch 10/10\n",
      "600/600 [==============================] - 0s 40us/step - loss: 1.9217 - acc: 0.7050\n"
     ]
    },
    {
     "data": {
      "text/plain": [
       "<keras.callbacks.History at 0x268aee5bc88>"
      ]
     },
     "execution_count": 22,
     "metadata": {},
     "output_type": "execute_result"
    }
   ],
   "source": [
    "model.fit(input_data, label, epochs=10, batch_size=32)"
   ]
  },
  {
   "cell_type": "code",
   "execution_count": 23,
   "metadata": {},
   "outputs": [
    {
     "name": "stdout",
     "output_type": "stream",
     "text": [
      "Epoch 1/20\n",
      "600/600 [==============================] - 0s 53us/step - loss: 1.8246 - acc: 0.7217\n",
      "Epoch 2/20\n",
      "600/600 [==============================] - 0s 40us/step - loss: 1.8150 - acc: 0.7433\n",
      "Epoch 3/20\n",
      "600/600 [==============================] - 0s 40us/step - loss: 1.7248 - acc: 0.7533\n",
      "Epoch 4/20\n",
      "600/600 [==============================] - 0s 40us/step - loss: 1.7015 - acc: 0.7600\n",
      "Epoch 5/20\n",
      "600/600 [==============================] - 0s 47us/step - loss: 1.6540 - acc: 0.7800\n",
      "Epoch 6/20\n",
      "600/600 [==============================] - 0s 47us/step - loss: 1.6521 - acc: 0.7733\n",
      "Epoch 7/20\n",
      "600/600 [==============================] - 0s 47us/step - loss: 1.6254 - acc: 0.7817\n",
      "Epoch 8/20\n",
      "600/600 [==============================] - 0s 40us/step - loss: 1.5935 - acc: 0.7833\n",
      "Epoch 9/20\n",
      "600/600 [==============================] - 0s 47us/step - loss: 1.5721 - acc: 0.8000\n",
      "Epoch 10/20\n",
      "600/600 [==============================] - 0s 47us/step - loss: 1.5835 - acc: 0.7883\n",
      "Epoch 11/20\n",
      "600/600 [==============================] - 0s 47us/step - loss: 1.5544 - acc: 0.7950\n",
      "Epoch 12/20\n",
      "600/600 [==============================] - 0s 53us/step - loss: 1.5324 - acc: 0.7967\n",
      "Epoch 13/20\n",
      "600/600 [==============================] - 0s 47us/step - loss: 1.5214 - acc: 0.8017\n",
      "Epoch 14/20\n",
      "600/600 [==============================] - 0s 53us/step - loss: 1.5153 - acc: 0.7933\n",
      "Epoch 15/20\n",
      "600/600 [==============================] - 0s 53us/step - loss: 1.5007 - acc: 0.8050\n",
      "Epoch 16/20\n",
      "600/600 [==============================] - 0s 53us/step - loss: 1.4927 - acc: 0.8133\n",
      "Epoch 17/20\n",
      "600/600 [==============================] - 0s 60us/step - loss: 1.4824 - acc: 0.8150\n",
      "Epoch 18/20\n",
      "600/600 [==============================] - 0s 47us/step - loss: 1.4948 - acc: 0.8050\n",
      "Epoch 19/20\n",
      "600/600 [==============================] - 0s 53us/step - loss: 1.4804 - acc: 0.8117\n",
      "Epoch 20/20\n",
      "600/600 [==============================] - 0s 47us/step - loss: 1.4735 - acc: 0.8100\n"
     ]
    },
    {
     "data": {
      "text/plain": [
       "<keras.callbacks.History at 0x268aef1f0f0>"
      ]
     },
     "execution_count": 23,
     "metadata": {},
     "output_type": "execute_result"
    }
   ],
   "source": [
    "model.fit(input_data, label, epochs=20, batch_size=32)"
   ]
  },
  {
   "cell_type": "code",
   "execution_count": 24,
   "metadata": {},
   "outputs": [
    {
     "name": "stdout",
     "output_type": "stream",
     "text": [
      "Epoch 1/20\n",
      "600/600 [==============================] - 0s 501us/step - loss: 1.5170 - acc: 0.7933\n",
      "Epoch 2/20\n",
      "600/600 [==============================] - 0s 491us/step - loss: 1.5310 - acc: 0.7950\n",
      "Epoch 3/20\n",
      "600/600 [==============================] - 0s 468us/step - loss: 1.5354 - acc: 0.7917\n",
      "Epoch 4/20\n",
      "600/600 [==============================] - 0s 484us/step - loss: 1.5114 - acc: 0.8000\n",
      "Epoch 5/20\n",
      "600/600 [==============================] - 0s 547us/step - loss: 1.5010 - acc: 0.7933\n",
      "Epoch 6/20\n",
      "600/600 [==============================] - 0s 507us/step - loss: 1.4919 - acc: 0.8017\n",
      "Epoch 7/20\n",
      "600/600 [==============================] - 0s 540us/step - loss: 1.5191 - acc: 0.7983\n",
      "Epoch 8/20\n",
      "600/600 [==============================] - 0s 447us/step - loss: 1.4996 - acc: 0.8033\n",
      "Epoch 9/20\n",
      "600/600 [==============================] - 0s 478us/step - loss: 1.5127 - acc: 0.8083\n",
      "Epoch 10/20\n",
      "600/600 [==============================] - 0s 483us/step - loss: 1.5115 - acc: 0.8033\n",
      "Epoch 11/20\n",
      "600/600 [==============================] - 0s 473us/step - loss: 1.4873 - acc: 0.8183\n",
      "Epoch 12/20\n",
      "600/600 [==============================] - 0s 533us/step - loss: 1.4857 - acc: 0.8100\n",
      "Epoch 13/20\n",
      "600/600 [==============================] - 0s 494us/step - loss: 1.4624 - acc: 0.8200\n",
      "Epoch 14/20\n",
      "600/600 [==============================] - 0s 471us/step - loss: 1.4624 - acc: 0.8200\n",
      "Epoch 15/20\n",
      "600/600 [==============================] - 0s 460us/step - loss: 1.4570 - acc: 0.8250\n",
      "Epoch 16/20\n",
      "600/600 [==============================] - 0s 447us/step - loss: 1.4462 - acc: 0.8183\n",
      "Epoch 17/20\n",
      "600/600 [==============================] - 0s 533us/step - loss: 1.4357 - acc: 0.8350\n",
      "Epoch 18/20\n",
      "600/600 [==============================] - 0s 500us/step - loss: 1.4436 - acc: 0.8200\n",
      "Epoch 19/20\n",
      "600/600 [==============================] - 0s 480us/step - loss: 1.4344 - acc: 0.8300\n",
      "Epoch 20/20\n",
      "600/600 [==============================] - 0s 520us/step - loss: 1.4659 - acc: 0.8283\n"
     ]
    },
    {
     "data": {
      "text/plain": [
       "<keras.callbacks.History at 0x268aef32d68>"
      ]
     },
     "execution_count": 24,
     "metadata": {},
     "output_type": "execute_result"
    }
   ],
   "source": [
    "model.fit(input_data, label, epochs=20, batch_size=2)"
   ]
  },
  {
   "cell_type": "code",
   "execution_count": 28,
   "metadata": {},
   "outputs": [
    {
     "name": "stdout",
     "output_type": "stream",
     "text": [
      "Train on 420 samples, validate on 180 samples\n",
      "Epoch 1/20\n",
      "420/420 [==============================] - 1s 1ms/step - loss: 1.7901 - acc: 0.8357 - val_loss: 3.4957 - val_acc: 0.4889\n",
      "Epoch 2/20\n",
      "420/420 [==============================] - 0s 556us/step - loss: 1.7457 - acc: 0.8500 - val_loss: 5.7103 - val_acc: 0.3611\n",
      "Epoch 3/20\n",
      "420/420 [==============================] - 0s 596us/step - loss: 1.7297 - acc: 0.8476 - val_loss: 7.0165 - val_acc: 0.3500\n",
      "Epoch 4/20\n",
      "420/420 [==============================] - 0s 568us/step - loss: 1.7254 - acc: 0.8500 - val_loss: 7.8630 - val_acc: 0.2944\n",
      "Epoch 5/20\n",
      "420/420 [==============================] - 0s 557us/step - loss: 1.7272 - acc: 0.8595 - val_loss: 8.4486 - val_acc: 0.2500\n",
      "Epoch 6/20\n",
      "420/420 [==============================] - 0s 520us/step - loss: 1.7124 - acc: 0.8548 - val_loss: 9.0826 - val_acc: 0.2389\n",
      "Epoch 7/20\n",
      "420/420 [==============================] - 0s 585us/step - loss: 1.7217 - acc: 0.8524 - val_loss: 9.4954 - val_acc: 0.2333\n",
      "Epoch 8/20\n",
      "420/420 [==============================] - 0s 548us/step - loss: 1.7037 - acc: 0.8571 - val_loss: 9.9625 - val_acc: 0.2333\n",
      "Epoch 9/20\n",
      "420/420 [==============================] - 0s 593us/step - loss: 1.7239 - acc: 0.8571 - val_loss: 10.1527 - val_acc: 0.2222\n",
      "Epoch 10/20\n",
      "420/420 [==============================] - 0s 743us/step - loss: 1.7047 - acc: 0.8643 - val_loss: 10.3642 - val_acc: 0.2167\n",
      "Epoch 11/20\n",
      "420/420 [==============================] - 0s 562us/step - loss: 1.7047 - acc: 0.8524 - val_loss: 10.4848 - val_acc: 0.2056\n",
      "Epoch 12/20\n",
      "420/420 [==============================] - 0s 572us/step - loss: 1.6887 - acc: 0.8619 - val_loss: 10.6333 - val_acc: 0.2000\n",
      "Epoch 13/20\n",
      "420/420 [==============================] - 0s 573us/step - loss: 1.6962 - acc: 0.8619 - val_loss: 10.7371 - val_acc: 0.2000\n",
      "Epoch 14/20\n",
      "420/420 [==============================] - 0s 752us/step - loss: 1.6935 - acc: 0.8738 - val_loss: 10.8318 - val_acc: 0.1944\n",
      "Epoch 15/20\n",
      "420/420 [==============================] - 0s 533us/step - loss: 1.6928 - acc: 0.8762 - val_loss: 10.9113 - val_acc: 0.1833\n",
      "Epoch 16/20\n",
      "420/420 [==============================] - 0s 562us/step - loss: 1.6941 - acc: 0.8667 - val_loss: 11.0376 - val_acc: 0.1833\n",
      "Epoch 17/20\n",
      "420/420 [==============================] - 0s 550us/step - loss: 1.6906 - acc: 0.8690 - val_loss: 11.0957 - val_acc: 0.1833\n",
      "Epoch 18/20\n",
      "420/420 [==============================] - 0s 558us/step - loss: 1.6856 - acc: 0.8690 - val_loss: 11.2558 - val_acc: 0.1833\n",
      "Epoch 19/20\n",
      "420/420 [==============================] - 0s 577us/step - loss: 1.6905 - acc: 0.8667 - val_loss: 11.3523 - val_acc: 0.1833\n",
      "Epoch 20/20\n",
      "420/420 [==============================] - 0s 625us/step - loss: 1.6909 - acc: 0.8690 - val_loss: 11.4764 - val_acc: 0.1833\n"
     ]
    },
    {
     "data": {
      "text/plain": [
       "<keras.callbacks.History at 0x268aef360b8>"
      ]
     },
     "execution_count": 28,
     "metadata": {},
     "output_type": "execute_result"
    }
   ],
   "source": [
    "model.fit(input_data, label, epochs=20, batch_size=2, validation_split=0.3)"
   ]
  },
  {
   "cell_type": "code",
   "execution_count": 29,
   "metadata": {},
   "outputs": [
    {
     "name": "stdout",
     "output_type": "stream",
     "text": [
      "Train on 300 samples, validate on 300 samples\n",
      "Epoch 1/20\n",
      "300/300 [==============================] - 0s 707us/step - loss: 0.1013 - acc: 0.9633 - val_loss: 9.1953 - val_acc: 0.3700\n",
      "Epoch 2/20\n",
      "300/300 [==============================] - 0s 575us/step - loss: 0.0971 - acc: 0.9667 - val_loss: 9.2588 - val_acc: 0.3633\n",
      "Epoch 3/20\n",
      "300/300 [==============================] - 0s 652us/step - loss: 0.0907 - acc: 0.9733 - val_loss: 9.3226 - val_acc: 0.3600\n",
      "Epoch 4/20\n",
      "300/300 [==============================] - 0s 672us/step - loss: 0.0895 - acc: 0.9633 - val_loss: 9.3700 - val_acc: 0.3600\n",
      "Epoch 5/20\n",
      "300/300 [==============================] - 0s 689us/step - loss: 0.0860 - acc: 0.9700 - val_loss: 9.4066 - val_acc: 0.3600\n",
      "Epoch 6/20\n",
      "300/300 [==============================] - 0s 699us/step - loss: 0.0859 - acc: 0.9733 - val_loss: 9.4805 - val_acc: 0.3567\n",
      "Epoch 7/20\n",
      "300/300 [==============================] - 0s 627us/step - loss: 0.0841 - acc: 0.9667 - val_loss: 9.5079 - val_acc: 0.3567\n",
      "Epoch 8/20\n",
      "300/300 [==============================] - 0s 648us/step - loss: 0.0819 - acc: 0.9733 - val_loss: 9.5588 - val_acc: 0.3567\n",
      "Epoch 9/20\n",
      "300/300 [==============================] - 0s 884us/step - loss: 0.0753 - acc: 0.9667 - val_loss: 9.6092 - val_acc: 0.3600\n",
      "Epoch 10/20\n",
      "300/300 [==============================] - 0s 720us/step - loss: 0.0779 - acc: 0.9700 - val_loss: 9.6573 - val_acc: 0.3567\n",
      "Epoch 11/20\n",
      "300/300 [==============================] - 0s 683us/step - loss: 0.0786 - acc: 0.9733 - val_loss: 9.6919 - val_acc: 0.3533\n",
      "Epoch 12/20\n",
      "300/300 [==============================] - 0s 587us/step - loss: 0.0780 - acc: 0.9767 - val_loss: 9.7440 - val_acc: 0.3533\n",
      "Epoch 13/20\n",
      "300/300 [==============================] - 0s 577us/step - loss: 0.0868 - acc: 0.9633 - val_loss: 9.7681 - val_acc: 0.3533\n",
      "Epoch 14/20\n",
      "300/300 [==============================] - 0s 655us/step - loss: 0.0779 - acc: 0.9733 - val_loss: 9.7898 - val_acc: 0.3533\n",
      "Epoch 15/20\n",
      "300/300 [==============================] - 0s 731us/step - loss: 0.0786 - acc: 0.9733 - val_loss: 9.8237 - val_acc: 0.3533\n",
      "Epoch 16/20\n",
      "300/300 [==============================] - 0s 813us/step - loss: 0.0783 - acc: 0.9700 - val_loss: 9.8456 - val_acc: 0.3533\n",
      "Epoch 17/20\n",
      "300/300 [==============================] - 0s 816us/step - loss: 0.0746 - acc: 0.9700 - val_loss: 9.8858 - val_acc: 0.3533\n",
      "Epoch 18/20\n",
      "300/300 [==============================] - 0s 659us/step - loss: 0.0770 - acc: 0.9700 - val_loss: 9.9038 - val_acc: 0.3533\n",
      "Epoch 19/20\n",
      "300/300 [==============================] - 0s 745us/step - loss: 0.0721 - acc: 0.9700 - val_loss: 9.9178 - val_acc: 0.3533\n",
      "Epoch 20/20\n",
      "300/300 [==============================] - 0s 686us/step - loss: 0.0691 - acc: 0.9767 - val_loss: 9.9484 - val_acc: 0.3533\n"
     ]
    },
    {
     "data": {
      "text/plain": [
       "<keras.callbacks.History at 0x268aef36518>"
      ]
     },
     "execution_count": 29,
     "metadata": {},
     "output_type": "execute_result"
    }
   ],
   "source": [
    "model.fit(input_data, label, epochs=20, batch_size=2, validation_split=0.5)"
   ]
  },
  {
   "cell_type": "code",
   "execution_count": 31,
   "metadata": {},
   "outputs": [
    {
     "name": "stdout",
     "output_type": "stream",
     "text": [
      "600/600 [==============================] - 0s 213us/step\n"
     ]
    },
    {
     "data": {
      "text/plain": [
       "[5.007782051547935, 0.6616666666666666]"
      ]
     },
     "execution_count": 31,
     "metadata": {},
     "output_type": "execute_result"
    }
   ],
   "source": [
    "model.evaluate(x=input_data, y=label, batch_size=2, verbose=1, sample_weight=None)"
   ]
  },
  {
   "cell_type": "code",
   "execution_count": 33,
   "metadata": {},
   "outputs": [
    {
     "name": "stdout",
     "output_type": "stream",
     "text": [
      "10/10 [==============================] - 0s 2ms/step\n"
     ]
    },
    {
     "data": {
      "text/plain": [
       "[5.00778341293335, 0.6616666913032532]"
      ]
     },
     "execution_count": 33,
     "metadata": {},
     "output_type": "execute_result"
    }
   ],
   "source": [
    "model.evaluate(x=input_data, y=label, batch_size=None, verbose=1, sample_weight=None, steps=10)"
   ]
  },
  {
   "cell_type": "code",
   "execution_count": 35,
   "metadata": {},
   "outputs": [],
   "source": [
    "data_0  = []\n",
    "label_0 = []\n",
    "for j in range(no_act[map_act[0]]):\n",
    "    X_data.append(data[map_act[0]][j])\n",
    "    X_label.append(0)"
   ]
  },
  {
   "cell_type": "code",
   "execution_count": 36,
   "metadata": {},
   "outputs": [],
   "source": [
    "input_data_0 = np.array(data_0)\n",
    "input_label_0 = np.array(label_0)"
   ]
  },
  {
   "cell_type": "code",
   "execution_count": 39,
   "metadata": {},
   "outputs": [
    {
     "data": {
      "text/plain": [
       "(0,)"
      ]
     },
     "execution_count": 39,
     "metadata": {},
     "output_type": "execute_result"
    }
   ],
   "source": [
    "input_data_0.shape"
   ]
  },
  {
   "cell_type": "code",
   "execution_count": 40,
   "metadata": {},
   "outputs": [
    {
     "name": "stdout",
     "output_type": "stream",
     "text": [
      "[]\n"
     ]
    }
   ],
   "source": [
    "print(input_data_0)"
   ]
  },
  {
   "cell_type": "code",
   "execution_count": 41,
   "metadata": {},
   "outputs": [],
   "source": [
    "data_0  = []\n",
    "label_0 = []\n",
    "for j in range(no_act[map_act[0]]):\n",
    "    data_0.append(data[map_act[0]][j])\n",
    "    label_0.append(0)"
   ]
  },
  {
   "cell_type": "code",
   "execution_count": 43,
   "metadata": {},
   "outputs": [],
   "source": [
    "input_label_0 = keras.utils.to_categorical(input_label_0, 10)"
   ]
  },
  {
   "cell_type": "code",
   "execution_count": 44,
   "metadata": {},
   "outputs": [
    {
     "name": "stdout",
     "output_type": "stream",
     "text": [
      "\r",
      "30/30 [==============================] - 0s 200us/step\n"
     ]
    },
    {
     "data": {
      "text/plain": [
       "[0.19742900133132935, 0.9333333373069763]"
      ]
     },
     "execution_count": 44,
     "metadata": {},
     "output_type": "execute_result"
    }
   ],
   "source": [
    "input_data_0 = np.array(data_0)\n",
    "input_label_0 = np.array(label_0)\n",
    "input_label_0 = keras.utils.to_categorical(input_label_0, 10)\n",
    "model.evaluate(input_data_0, input_label_0, batch_size=32, verbose=1)"
   ]
  },
  {
   "cell_type": "code",
   "execution_count": 45,
   "metadata": {},
   "outputs": [
    {
     "name": "stdout",
     "output_type": "stream",
     "text": [
      "48/48 [==============================] - 0s 167us/step\n"
     ]
    },
    {
     "data": {
      "text/plain": [
       "[0.0012851220089942217, 1.0]"
      ]
     },
     "execution_count": 45,
     "metadata": {},
     "output_type": "execute_result"
    }
   ],
   "source": [
    "data_0  = []\n",
    "label_0 = []\n",
    "for j in range(no_act[map_act[1]]):\n",
    "    data_0.append(data[map_act[1]][j])\n",
    "    label_0.append(1)\n",
    "input_data_0 = np.array(data_0)\n",
    "input_label_0 = np.array(label_0)\n",
    "input_label_0 = keras.utils.to_categorical(input_label_0, 10)\n",
    "model.evaluate(input_data_0, input_label_0, batch_size=32, verbose=1)"
   ]
  },
  {
   "cell_type": "code",
   "execution_count": 46,
   "metadata": {},
   "outputs": [
    {
     "name": "stdout",
     "output_type": "stream",
     "text": [
      "207/207 [==============================] - 0s 58us/step\n"
     ]
    },
    {
     "data": {
      "text/plain": [
       "[0.06819862979441738, 0.966183574879227]"
      ]
     },
     "execution_count": 46,
     "metadata": {},
     "output_type": "execute_result"
    }
   ],
   "source": [
    "data_0  = []\n",
    "label_0 = []\n",
    "for j in range(no_act[map_act[2]]):\n",
    "    data_0.append(data[map_act[2]][j])\n",
    "    label_0.append(2)\n",
    "input_data_0 = np.array(data_0)\n",
    "input_label_0 = np.array(label_0)\n",
    "input_label_0 = keras.utils.to_categorical(input_label_0, 10)\n",
    "model.evaluate(input_data_0, input_label_0, batch_size=32, verbose=1)"
   ]
  },
  {
   "cell_type": "code",
   "execution_count": 47,
   "metadata": {},
   "outputs": [
    {
     "name": "stdout",
     "output_type": "stream",
     "text": [
      "46/46 [==============================] - 0s 283us/step\n"
     ]
    },
    {
     "data": {
      "text/plain": [
       "[0.8512253553971, 0.9130434808523759]"
      ]
     },
     "execution_count": 47,
     "metadata": {},
     "output_type": "execute_result"
    }
   ],
   "source": [
    "data_0  = []\n",
    "label_0 = []\n",
    "for j in range(no_act[map_act[3]]):\n",
    "    data_0.append(data[map_act[3]][j])\n",
    "    label_0.append(3)\n",
    "input_data_0 = np.array(data_0)\n",
    "input_label_0 = np.array(label_0)\n",
    "input_label_0 = keras.utils.to_categorical(input_label_0, 10)\n",
    "model.evaluate(input_data_0, input_label_0, batch_size=32, verbose=1)"
   ]
  },
  {
   "cell_type": "code",
   "execution_count": 48,
   "metadata": {},
   "outputs": [
    {
     "name": "stdout",
     "output_type": "stream",
     "text": [
      "42/42 [==============================] - 0s 143us/step\n"
     ]
    },
    {
     "data": {
      "text/plain": [
       "[16.11809539794922, 0.0]"
      ]
     },
     "execution_count": 48,
     "metadata": {},
     "output_type": "execute_result"
    }
   ],
   "source": [
    "data_0  = []\n",
    "label_0 = []\n",
    "for j in range(no_act[map_act[4]]):\n",
    "    data_0.append(data[map_act[4]][j])\n",
    "    label_0.append(2)\n",
    "input_data_0 = np.array(data_0)\n",
    "input_label_0 = np.array(label_0)\n",
    "input_label_0 = keras.utils.to_categorical(input_label_0, 10)\n",
    "model.evaluate(input_data_0, input_label_0, batch_size=32, verbose=1)"
   ]
  },
  {
   "cell_type": "code",
   "execution_count": 49,
   "metadata": {},
   "outputs": [
    {
     "name": "stdout",
     "output_type": "stream",
     "text": [
      "42/42 [==============================] - 0s 167us/step\n"
     ]
    },
    {
     "data": {
      "text/plain": [
       "[16.11809539794922, 0.0]"
      ]
     },
     "execution_count": 49,
     "metadata": {},
     "output_type": "execute_result"
    }
   ],
   "source": [
    "data_0  = []\n",
    "label_0 = []\n",
    "for j in range(no_act[map_act[4]]):\n",
    "    data_0.append(data[map_act[4]][j])\n",
    "    label_0.append(4)\n",
    "input_data_0 = np.array(data_0)\n",
    "input_label_0 = np.array(label_0)\n",
    "input_label_0 = keras.utils.to_categorical(input_label_0, 10)\n",
    "model.evaluate(input_data_0, input_label_0, batch_size=32, verbose=1)"
   ]
  },
  {
   "cell_type": "code",
   "execution_count": 50,
   "metadata": {},
   "outputs": [
    {
     "name": "stdout",
     "output_type": "stream",
     "text": [
      "\r",
      "10/10 [==============================] - 0s 100us/step\n"
     ]
    },
    {
     "data": {
      "text/plain": [
       "[0.06586682051420212, 1.0]"
      ]
     },
     "execution_count": 50,
     "metadata": {},
     "output_type": "execute_result"
    }
   ],
   "source": [
    "data_0  = []\n",
    "label_0 = []\n",
    "for j in range(no_act[map_act[5]]):\n",
    "    data_0.append(data[map_act[5]][j])\n",
    "    label_0.append(5)\n",
    "input_data_0 = np.array(data_0)\n",
    "input_label_0 = np.array(label_0)\n",
    "input_label_0 = keras.utils.to_categorical(input_label_0, 10)\n",
    "model.evaluate(input_data_0, input_label_0, batch_size=32, verbose=1)"
   ]
  },
  {
   "cell_type": "code",
   "execution_count": 51,
   "metadata": {},
   "outputs": [
    {
     "name": "stdout",
     "output_type": "stream",
     "text": [
      "69/69 [==============================] - 0s 102us/step\n"
     ]
    },
    {
     "data": {
      "text/plain": [
       "[0.002007307132362916, 1.0]"
      ]
     },
     "execution_count": 51,
     "metadata": {},
     "output_type": "execute_result"
    }
   ],
   "source": [
    "data_0  = []\n",
    "label_0 = []\n",
    "for j in range(no_act[map_act[6]]):\n",
    "    data_0.append(data[map_act[6]][j])\n",
    "    label_0.append(6)\n",
    "input_data_0 = np.array(data_0)\n",
    "input_label_0 = np.array(label_0)\n",
    "input_label_0 = keras.utils.to_categorical(input_label_0, 10)\n",
    "model.evaluate(input_data_0, input_label_0, batch_size=32, verbose=1)"
   ]
  },
  {
   "cell_type": "code",
   "execution_count": 52,
   "metadata": {},
   "outputs": [
    {
     "name": "stdout",
     "output_type": "stream",
     "text": [
      "37/37 [==============================] - 0s 108us/step\n"
     ]
    },
    {
     "data": {
      "text/plain": [
       "[16.11809539794922, 0.0]"
      ]
     },
     "execution_count": 52,
     "metadata": {},
     "output_type": "execute_result"
    }
   ],
   "source": [
    "data_0  = []\n",
    "label_0 = []\n",
    "for j in range(no_act[map_act[7]]):\n",
    "    data_0.append(data[map_act[7]][j])\n",
    "    label_0.append(7)\n",
    "input_data_0 = np.array(data_0)\n",
    "input_label_0 = np.array(label_0)\n",
    "input_label_0 = keras.utils.to_categorical(input_label_0, 10)\n",
    "model.evaluate(input_data_0, input_label_0, batch_size=32, verbose=1)"
   ]
  },
  {
   "cell_type": "code",
   "execution_count": 53,
   "metadata": {},
   "outputs": [
    {
     "name": "stdout",
     "output_type": "stream",
     "text": [
      "67/67 [==============================] - 0s 75us/step\n"
     ]
    },
    {
     "data": {
      "text/plain": [
       "[16.115845295920302, 0.0]"
      ]
     },
     "execution_count": 53,
     "metadata": {},
     "output_type": "execute_result"
    }
   ],
   "source": [
    "data_0  = []\n",
    "label_0 = []\n",
    "for j in range(no_act[map_act[8]]):\n",
    "    data_0.append(data[map_act[8]][j])\n",
    "    label_0.append(8)\n",
    "input_data_0 = np.array(data_0)\n",
    "input_label_0 = np.array(label_0)\n",
    "input_label_0 = keras.utils.to_categorical(input_label_0, 10)\n",
    "model.evaluate(input_data_0, input_label_0, batch_size=32, verbose=1)"
   ]
  },
  {
   "cell_type": "code",
   "execution_count": 54,
   "metadata": {},
   "outputs": [
    {
     "name": "stdout",
     "output_type": "stream",
     "text": [
      "44/44 [==============================] - 0s 114us/step\n"
     ]
    },
    {
     "data": {
      "text/plain": [
       "[13.443702004172586, 0.0]"
      ]
     },
     "execution_count": 54,
     "metadata": {},
     "output_type": "execute_result"
    }
   ],
   "source": [
    "data_0  = []\n",
    "label_0 = []\n",
    "for j in range(no_act[map_act[9]]):\n",
    "    data_0.append(data[map_act[9]][j])\n",
    "    label_0.append(9)\n",
    "input_data_0 = np.array(data_0)\n",
    "input_label_0 = np.array(label_0)\n",
    "input_label_0 = keras.utils.to_categorical(input_label_0, 10)\n",
    "model.evaluate(input_data_0, input_label_0, batch_size=32, verbose=1)"
   ]
  },
  {
   "cell_type": "code",
   "execution_count": 55,
   "metadata": {},
   "outputs": [],
   "source": [
    "import importlib"
   ]
  },
  {
   "cell_type": "code",
   "execution_count": 57,
   "metadata": {},
   "outputs": [
    {
     "data": {
      "text/plain": [
       "<module 'read' from 'C:\\\\Users\\\\Jay\\\\Desktop\\\\capstone\\\\read.py'>"
      ]
     },
     "execution_count": 57,
     "metadata": {},
     "output_type": "execute_result"
    }
   ],
   "source": [
    "importlib.reload(read)"
   ]
  },
  {
   "cell_type": "code",
   "execution_count": 61,
   "metadata": {},
   "outputs": [
    {
     "ename": "TabError",
     "evalue": "inconsistent use of tabs and spaces in indentation (read.py, line 82)",
     "output_type": "error",
     "traceback": [
      "Traceback \u001b[1;36m(most recent call last)\u001b[0m:\n",
      "  File \u001b[0;32m\"D:\\Anaconda3\\lib\\site-packages\\IPython\\core\\interactiveshell.py\"\u001b[0m, line \u001b[0;32m2963\u001b[0m, in \u001b[0;35mrun_code\u001b[0m\n    exec(code_obj, self.user_global_ns, self.user_ns)\n",
      "  File \u001b[0;32m\"<ipython-input-61-70e3163a50e4>\"\u001b[0m, line \u001b[0;32m1\u001b[0m, in \u001b[0;35m<module>\u001b[0m\n    importlib.reload(read)\n",
      "  File \u001b[0;32m\"D:\\Anaconda3\\lib\\importlib\\__init__.py\"\u001b[0m, line \u001b[0;32m166\u001b[0m, in \u001b[0;35mreload\u001b[0m\n    _bootstrap._exec(spec, module)\n",
      "  File \u001b[0;32m\"<frozen importlib._bootstrap>\"\u001b[0m, line \u001b[0;32m618\u001b[0m, in \u001b[0;35m_exec\u001b[0m\n",
      "  File \u001b[0;32m\"<frozen importlib._bootstrap_external>\"\u001b[0m, line \u001b[0;32m674\u001b[0m, in \u001b[0;35mexec_module\u001b[0m\n",
      "  File \u001b[0;32m\"<frozen importlib._bootstrap_external>\"\u001b[0m, line \u001b[0;32m781\u001b[0m, in \u001b[0;35mget_code\u001b[0m\n",
      "  File \u001b[0;32m\"<frozen importlib._bootstrap_external>\"\u001b[0m, line \u001b[0;32m741\u001b[0m, in \u001b[0;35msource_to_code\u001b[0m\n",
      "\u001b[1;36m  File \u001b[1;32m\"<frozen importlib._bootstrap>\"\u001b[1;36m, line \u001b[1;32m219\u001b[1;36m, in \u001b[1;35m_call_with_frames_removed\u001b[1;36m\u001b[0m\n",
      "\u001b[1;36m  File \u001b[1;32m\"C:\\Users\\Jay\\Desktop\\capstone\\read.py\"\u001b[1;36m, line \u001b[1;32m82\u001b[0m\n\u001b[1;33m    X_data  = []\u001b[0m\n\u001b[1;37m                ^\u001b[0m\n\u001b[1;31mTabError\u001b[0m\u001b[1;31m:\u001b[0m inconsistent use of tabs and spaces in indentation\n"
     ]
    }
   ],
   "source": [
    "importlib.reload(read)"
   ]
  },
  {
   "cell_type": "code",
   "execution_count": 62,
   "metadata": {},
   "outputs": [
    {
     "ename": "TabError",
     "evalue": "inconsistent use of tabs and spaces in indentation (read.py, line 82)",
     "output_type": "error",
     "traceback": [
      "Traceback \u001b[1;36m(most recent call last)\u001b[0m:\n",
      "  File \u001b[0;32m\"D:\\Anaconda3\\lib\\site-packages\\IPython\\core\\interactiveshell.py\"\u001b[0m, line \u001b[0;32m2963\u001b[0m, in \u001b[0;35mrun_code\u001b[0m\n    exec(code_obj, self.user_global_ns, self.user_ns)\n",
      "  File \u001b[0;32m\"<ipython-input-62-70e3163a50e4>\"\u001b[0m, line \u001b[0;32m1\u001b[0m, in \u001b[0;35m<module>\u001b[0m\n    importlib.reload(read)\n",
      "  File \u001b[0;32m\"D:\\Anaconda3\\lib\\importlib\\__init__.py\"\u001b[0m, line \u001b[0;32m166\u001b[0m, in \u001b[0;35mreload\u001b[0m\n    _bootstrap._exec(spec, module)\n",
      "  File \u001b[0;32m\"<frozen importlib._bootstrap>\"\u001b[0m, line \u001b[0;32m618\u001b[0m, in \u001b[0;35m_exec\u001b[0m\n",
      "  File \u001b[0;32m\"<frozen importlib._bootstrap_external>\"\u001b[0m, line \u001b[0;32m674\u001b[0m, in \u001b[0;35mexec_module\u001b[0m\n",
      "  File \u001b[0;32m\"<frozen importlib._bootstrap_external>\"\u001b[0m, line \u001b[0;32m781\u001b[0m, in \u001b[0;35mget_code\u001b[0m\n",
      "  File \u001b[0;32m\"<frozen importlib._bootstrap_external>\"\u001b[0m, line \u001b[0;32m741\u001b[0m, in \u001b[0;35msource_to_code\u001b[0m\n",
      "\u001b[1;36m  File \u001b[1;32m\"<frozen importlib._bootstrap>\"\u001b[1;36m, line \u001b[1;32m219\u001b[1;36m, in \u001b[1;35m_call_with_frames_removed\u001b[1;36m\u001b[0m\n",
      "\u001b[1;36m  File \u001b[1;32m\"C:\\Users\\Jay\\Desktop\\capstone\\read.py\"\u001b[1;36m, line \u001b[1;32m82\u001b[0m\n\u001b[1;33m    X_data = []\u001b[0m\n\u001b[1;37m               ^\u001b[0m\n\u001b[1;31mTabError\u001b[0m\u001b[1;31m:\u001b[0m inconsistent use of tabs and spaces in indentation\n"
     ]
    }
   ],
   "source": [
    "importlib.reload(read)"
   ]
  },
  {
   "cell_type": "code",
   "execution_count": 63,
   "metadata": {},
   "outputs": [
    {
     "ename": "TabError",
     "evalue": "inconsistent use of tabs and spaces in indentation (read.py, line 82)",
     "output_type": "error",
     "traceback": [
      "Traceback \u001b[1;36m(most recent call last)\u001b[0m:\n",
      "  File \u001b[0;32m\"D:\\Anaconda3\\lib\\site-packages\\IPython\\core\\interactiveshell.py\"\u001b[0m, line \u001b[0;32m2963\u001b[0m, in \u001b[0;35mrun_code\u001b[0m\n    exec(code_obj, self.user_global_ns, self.user_ns)\n",
      "  File \u001b[0;32m\"<ipython-input-63-70e3163a50e4>\"\u001b[0m, line \u001b[0;32m1\u001b[0m, in \u001b[0;35m<module>\u001b[0m\n    importlib.reload(read)\n",
      "  File \u001b[0;32m\"D:\\Anaconda3\\lib\\importlib\\__init__.py\"\u001b[0m, line \u001b[0;32m166\u001b[0m, in \u001b[0;35mreload\u001b[0m\n    _bootstrap._exec(spec, module)\n",
      "  File \u001b[0;32m\"<frozen importlib._bootstrap>\"\u001b[0m, line \u001b[0;32m618\u001b[0m, in \u001b[0;35m_exec\u001b[0m\n",
      "  File \u001b[0;32m\"<frozen importlib._bootstrap_external>\"\u001b[0m, line \u001b[0;32m674\u001b[0m, in \u001b[0;35mexec_module\u001b[0m\n",
      "  File \u001b[0;32m\"<frozen importlib._bootstrap_external>\"\u001b[0m, line \u001b[0;32m781\u001b[0m, in \u001b[0;35mget_code\u001b[0m\n",
      "  File \u001b[0;32m\"<frozen importlib._bootstrap_external>\"\u001b[0m, line \u001b[0;32m741\u001b[0m, in \u001b[0;35msource_to_code\u001b[0m\n",
      "\u001b[1;36m  File \u001b[1;32m\"<frozen importlib._bootstrap>\"\u001b[1;36m, line \u001b[1;32m219\u001b[1;36m, in \u001b[1;35m_call_with_frames_removed\u001b[1;36m\u001b[0m\n",
      "\u001b[1;36m  File \u001b[1;32m\"C:\\Users\\Jay\\Desktop\\capstone\\read.py\"\u001b[1;36m, line \u001b[1;32m82\u001b[0m\n\u001b[1;33m    X_data = []\u001b[0m\n\u001b[1;37m               ^\u001b[0m\n\u001b[1;31mTabError\u001b[0m\u001b[1;31m:\u001b[0m inconsistent use of tabs and spaces in indentation\n"
     ]
    }
   ],
   "source": [
    "importlib.reload(read)"
   ]
  },
  {
   "cell_type": "code",
   "execution_count": 64,
   "metadata": {},
   "outputs": [
    {
     "ename": "TabError",
     "evalue": "inconsistent use of tabs and spaces in indentation (read.py, line 82)",
     "output_type": "error",
     "traceback": [
      "Traceback \u001b[1;36m(most recent call last)\u001b[0m:\n",
      "  File \u001b[0;32m\"D:\\Anaconda3\\lib\\site-packages\\IPython\\core\\interactiveshell.py\"\u001b[0m, line \u001b[0;32m2963\u001b[0m, in \u001b[0;35mrun_code\u001b[0m\n    exec(code_obj, self.user_global_ns, self.user_ns)\n",
      "  File \u001b[0;32m\"<ipython-input-64-70e3163a50e4>\"\u001b[0m, line \u001b[0;32m1\u001b[0m, in \u001b[0;35m<module>\u001b[0m\n    importlib.reload(read)\n",
      "  File \u001b[0;32m\"D:\\Anaconda3\\lib\\importlib\\__init__.py\"\u001b[0m, line \u001b[0;32m166\u001b[0m, in \u001b[0;35mreload\u001b[0m\n    _bootstrap._exec(spec, module)\n",
      "  File \u001b[0;32m\"<frozen importlib._bootstrap>\"\u001b[0m, line \u001b[0;32m618\u001b[0m, in \u001b[0;35m_exec\u001b[0m\n",
      "  File \u001b[0;32m\"<frozen importlib._bootstrap_external>\"\u001b[0m, line \u001b[0;32m674\u001b[0m, in \u001b[0;35mexec_module\u001b[0m\n",
      "  File \u001b[0;32m\"<frozen importlib._bootstrap_external>\"\u001b[0m, line \u001b[0;32m781\u001b[0m, in \u001b[0;35mget_code\u001b[0m\n",
      "  File \u001b[0;32m\"<frozen importlib._bootstrap_external>\"\u001b[0m, line \u001b[0;32m741\u001b[0m, in \u001b[0;35msource_to_code\u001b[0m\n",
      "\u001b[1;36m  File \u001b[1;32m\"<frozen importlib._bootstrap>\"\u001b[1;36m, line \u001b[1;32m219\u001b[1;36m, in \u001b[1;35m_call_with_frames_removed\u001b[1;36m\u001b[0m\n",
      "\u001b[1;36m  File \u001b[1;32m\"C:\\Users\\Jay\\Desktop\\capstone\\read.py\"\u001b[1;36m, line \u001b[1;32m82\u001b[0m\n\u001b[1;33m    X_data = []\u001b[0m\n\u001b[1;37m               ^\u001b[0m\n\u001b[1;31mTabError\u001b[0m\u001b[1;31m:\u001b[0m inconsistent use of tabs and spaces in indentation\n"
     ]
    }
   ],
   "source": [
    "importlib.reload(read)"
   ]
  },
  {
   "cell_type": "code",
   "execution_count": 65,
   "metadata": {},
   "outputs": [
    {
     "ename": "AttributeError",
     "evalue": "module 'read' has no attribute 'py'",
     "output_type": "error",
     "traceback": [
      "\u001b[1;31m---------------------------------------------------------------------------\u001b[0m",
      "\u001b[1;31mAttributeError\u001b[0m                            Traceback (most recent call last)",
      "\u001b[1;32m<ipython-input-65-e162eb1e15c0>\u001b[0m in \u001b[0;36m<module>\u001b[1;34m()\u001b[0m\n\u001b[1;32m----> 1\u001b[1;33m \u001b[0mimportlib\u001b[0m\u001b[1;33m.\u001b[0m\u001b[0mreload\u001b[0m\u001b[1;33m(\u001b[0m\u001b[0mread\u001b[0m\u001b[1;33m.\u001b[0m\u001b[0mpy\u001b[0m\u001b[1;33m)\u001b[0m\u001b[1;33m\u001b[0m\u001b[0m\n\u001b[0m",
      "\u001b[1;31mAttributeError\u001b[0m: module 'read' has no attribute 'py'"
     ]
    }
   ],
   "source": [
    "importlib.reload(read.py)"
   ]
  },
  {
   "cell_type": "code",
   "execution_count": 66,
   "metadata": {},
   "outputs": [
    {
     "ename": "TabError",
     "evalue": "inconsistent use of tabs and spaces in indentation (read.py, line 81)",
     "output_type": "error",
     "traceback": [
      "Traceback \u001b[1;36m(most recent call last)\u001b[0m:\n",
      "  File \u001b[0;32m\"D:\\Anaconda3\\lib\\site-packages\\IPython\\core\\interactiveshell.py\"\u001b[0m, line \u001b[0;32m2963\u001b[0m, in \u001b[0;35mrun_code\u001b[0m\n    exec(code_obj, self.user_global_ns, self.user_ns)\n",
      "  File \u001b[0;32m\"<ipython-input-66-70e3163a50e4>\"\u001b[0m, line \u001b[0;32m1\u001b[0m, in \u001b[0;35m<module>\u001b[0m\n    importlib.reload(read)\n",
      "  File \u001b[0;32m\"D:\\Anaconda3\\lib\\importlib\\__init__.py\"\u001b[0m, line \u001b[0;32m166\u001b[0m, in \u001b[0;35mreload\u001b[0m\n    _bootstrap._exec(spec, module)\n",
      "  File \u001b[0;32m\"<frozen importlib._bootstrap>\"\u001b[0m, line \u001b[0;32m618\u001b[0m, in \u001b[0;35m_exec\u001b[0m\n",
      "  File \u001b[0;32m\"<frozen importlib._bootstrap_external>\"\u001b[0m, line \u001b[0;32m674\u001b[0m, in \u001b[0;35mexec_module\u001b[0m\n",
      "  File \u001b[0;32m\"<frozen importlib._bootstrap_external>\"\u001b[0m, line \u001b[0;32m781\u001b[0m, in \u001b[0;35mget_code\u001b[0m\n",
      "  File \u001b[0;32m\"<frozen importlib._bootstrap_external>\"\u001b[0m, line \u001b[0;32m741\u001b[0m, in \u001b[0;35msource_to_code\u001b[0m\n",
      "\u001b[1;36m  File \u001b[1;32m\"<frozen importlib._bootstrap>\"\u001b[1;36m, line \u001b[1;32m219\u001b[1;36m, in \u001b[1;35m_call_with_frames_removed\u001b[1;36m\u001b[0m\n",
      "\u001b[1;36m  File \u001b[1;32m\"C:\\Users\\Jay\\Desktop\\capstone\\read.py\"\u001b[1;36m, line \u001b[1;32m81\u001b[0m\n\u001b[1;33m    X_data = []\u001b[0m\n\u001b[1;37m               ^\u001b[0m\n\u001b[1;31mTabError\u001b[0m\u001b[1;31m:\u001b[0m inconsistent use of tabs and spaces in indentation\n"
     ]
    }
   ],
   "source": [
    "importlib.reload(read)"
   ]
  },
  {
   "cell_type": "code",
   "execution_count": 67,
   "metadata": {},
   "outputs": [
    {
     "ename": "TabError",
     "evalue": "inconsistent use of tabs and spaces in indentation (read.py, line 83)",
     "output_type": "error",
     "traceback": [
      "Traceback \u001b[1;36m(most recent call last)\u001b[0m:\n",
      "  File \u001b[0;32m\"D:\\Anaconda3\\lib\\site-packages\\IPython\\core\\interactiveshell.py\"\u001b[0m, line \u001b[0;32m2963\u001b[0m, in \u001b[0;35mrun_code\u001b[0m\n    exec(code_obj, self.user_global_ns, self.user_ns)\n",
      "  File \u001b[0;32m\"<ipython-input-67-70e3163a50e4>\"\u001b[0m, line \u001b[0;32m1\u001b[0m, in \u001b[0;35m<module>\u001b[0m\n    importlib.reload(read)\n",
      "  File \u001b[0;32m\"D:\\Anaconda3\\lib\\importlib\\__init__.py\"\u001b[0m, line \u001b[0;32m166\u001b[0m, in \u001b[0;35mreload\u001b[0m\n    _bootstrap._exec(spec, module)\n",
      "  File \u001b[0;32m\"<frozen importlib._bootstrap>\"\u001b[0m, line \u001b[0;32m618\u001b[0m, in \u001b[0;35m_exec\u001b[0m\n",
      "  File \u001b[0;32m\"<frozen importlib._bootstrap_external>\"\u001b[0m, line \u001b[0;32m674\u001b[0m, in \u001b[0;35mexec_module\u001b[0m\n",
      "  File \u001b[0;32m\"<frozen importlib._bootstrap_external>\"\u001b[0m, line \u001b[0;32m781\u001b[0m, in \u001b[0;35mget_code\u001b[0m\n",
      "  File \u001b[0;32m\"<frozen importlib._bootstrap_external>\"\u001b[0m, line \u001b[0;32m741\u001b[0m, in \u001b[0;35msource_to_code\u001b[0m\n",
      "\u001b[1;36m  File \u001b[1;32m\"<frozen importlib._bootstrap>\"\u001b[1;36m, line \u001b[1;32m219\u001b[1;36m, in \u001b[1;35m_call_with_frames_removed\u001b[1;36m\u001b[0m\n",
      "\u001b[1;36m  File \u001b[1;32m\"C:\\Users\\Jay\\Desktop\\capstone\\read.py\"\u001b[1;36m, line \u001b[1;32m83\u001b[0m\n\u001b[1;33m    X_data = []\u001b[0m\n\u001b[1;37m               ^\u001b[0m\n\u001b[1;31mTabError\u001b[0m\u001b[1;31m:\u001b[0m inconsistent use of tabs and spaces in indentation\n"
     ]
    }
   ],
   "source": [
    "importlib.reload(read)"
   ]
  },
  {
   "cell_type": "code",
   "execution_count": 68,
   "metadata": {},
   "outputs": [
    {
     "ename": "TabError",
     "evalue": "inconsistent use of tabs and spaces in indentation (read.py, line 83)",
     "output_type": "error",
     "traceback": [
      "Traceback \u001b[1;36m(most recent call last)\u001b[0m:\n",
      "  File \u001b[0;32m\"D:\\Anaconda3\\lib\\site-packages\\IPython\\core\\interactiveshell.py\"\u001b[0m, line \u001b[0;32m2963\u001b[0m, in \u001b[0;35mrun_code\u001b[0m\n    exec(code_obj, self.user_global_ns, self.user_ns)\n",
      "  File \u001b[0;32m\"<ipython-input-68-70e3163a50e4>\"\u001b[0m, line \u001b[0;32m1\u001b[0m, in \u001b[0;35m<module>\u001b[0m\n    importlib.reload(read)\n",
      "  File \u001b[0;32m\"D:\\Anaconda3\\lib\\importlib\\__init__.py\"\u001b[0m, line \u001b[0;32m166\u001b[0m, in \u001b[0;35mreload\u001b[0m\n    _bootstrap._exec(spec, module)\n",
      "  File \u001b[0;32m\"<frozen importlib._bootstrap>\"\u001b[0m, line \u001b[0;32m618\u001b[0m, in \u001b[0;35m_exec\u001b[0m\n",
      "  File \u001b[0;32m\"<frozen importlib._bootstrap_external>\"\u001b[0m, line \u001b[0;32m674\u001b[0m, in \u001b[0;35mexec_module\u001b[0m\n",
      "  File \u001b[0;32m\"<frozen importlib._bootstrap_external>\"\u001b[0m, line \u001b[0;32m781\u001b[0m, in \u001b[0;35mget_code\u001b[0m\n",
      "  File \u001b[0;32m\"<frozen importlib._bootstrap_external>\"\u001b[0m, line \u001b[0;32m741\u001b[0m, in \u001b[0;35msource_to_code\u001b[0m\n",
      "\u001b[1;36m  File \u001b[1;32m\"<frozen importlib._bootstrap>\"\u001b[1;36m, line \u001b[1;32m219\u001b[1;36m, in \u001b[1;35m_call_with_frames_removed\u001b[1;36m\u001b[0m\n",
      "\u001b[1;36m  File \u001b[1;32m\"C:\\Users\\Jay\\Desktop\\capstone\\read.py\"\u001b[1;36m, line \u001b[1;32m83\u001b[0m\n\u001b[1;33m    X_data = []\u001b[0m\n\u001b[1;37m               ^\u001b[0m\n\u001b[1;31mTabError\u001b[0m\u001b[1;31m:\u001b[0m inconsistent use of tabs and spaces in indentation\n"
     ]
    }
   ],
   "source": [
    "importlib.reload(read)"
   ]
  },
  {
   "cell_type": "code",
   "execution_count": 69,
   "metadata": {},
   "outputs": [
    {
     "ename": "TabError",
     "evalue": "inconsistent use of tabs and spaces in indentation (read.py, line 86)",
     "output_type": "error",
     "traceback": [
      "Traceback \u001b[1;36m(most recent call last)\u001b[0m:\n",
      "  File \u001b[0;32m\"D:\\Anaconda3\\lib\\site-packages\\IPython\\core\\interactiveshell.py\"\u001b[0m, line \u001b[0;32m2963\u001b[0m, in \u001b[0;35mrun_code\u001b[0m\n    exec(code_obj, self.user_global_ns, self.user_ns)\n",
      "  File \u001b[0;32m\"<ipython-input-69-70e3163a50e4>\"\u001b[0m, line \u001b[0;32m1\u001b[0m, in \u001b[0;35m<module>\u001b[0m\n    importlib.reload(read)\n",
      "  File \u001b[0;32m\"D:\\Anaconda3\\lib\\importlib\\__init__.py\"\u001b[0m, line \u001b[0;32m166\u001b[0m, in \u001b[0;35mreload\u001b[0m\n    _bootstrap._exec(spec, module)\n",
      "  File \u001b[0;32m\"<frozen importlib._bootstrap>\"\u001b[0m, line \u001b[0;32m618\u001b[0m, in \u001b[0;35m_exec\u001b[0m\n",
      "  File \u001b[0;32m\"<frozen importlib._bootstrap_external>\"\u001b[0m, line \u001b[0;32m674\u001b[0m, in \u001b[0;35mexec_module\u001b[0m\n",
      "  File \u001b[0;32m\"<frozen importlib._bootstrap_external>\"\u001b[0m, line \u001b[0;32m781\u001b[0m, in \u001b[0;35mget_code\u001b[0m\n",
      "  File \u001b[0;32m\"<frozen importlib._bootstrap_external>\"\u001b[0m, line \u001b[0;32m741\u001b[0m, in \u001b[0;35msource_to_code\u001b[0m\n",
      "\u001b[1;36m  File \u001b[1;32m\"<frozen importlib._bootstrap>\"\u001b[1;36m, line \u001b[1;32m219\u001b[1;36m, in \u001b[1;35m_call_with_frames_removed\u001b[1;36m\u001b[0m\n",
      "\u001b[1;36m  File \u001b[1;32m\"C:\\Users\\Jay\\Desktop\\capstone\\read.py\"\u001b[1;36m, line \u001b[1;32m86\u001b[0m\n\u001b[1;33m    for key, value in activity_map.items():\u001b[0m\n\u001b[1;37m                                           ^\u001b[0m\n\u001b[1;31mTabError\u001b[0m\u001b[1;31m:\u001b[0m inconsistent use of tabs and spaces in indentation\n"
     ]
    }
   ],
   "source": [
    "importlib.reload(read)"
   ]
  },
  {
   "cell_type": "code",
   "execution_count": 70,
   "metadata": {},
   "outputs": [
    {
     "ename": "TabError",
     "evalue": "inconsistent use of tabs and spaces in indentation (read.py, line 86)",
     "output_type": "error",
     "traceback": [
      "Traceback \u001b[1;36m(most recent call last)\u001b[0m:\n",
      "  File \u001b[0;32m\"D:\\Anaconda3\\lib\\site-packages\\IPython\\core\\interactiveshell.py\"\u001b[0m, line \u001b[0;32m2963\u001b[0m, in \u001b[0;35mrun_code\u001b[0m\n    exec(code_obj, self.user_global_ns, self.user_ns)\n",
      "  File \u001b[0;32m\"<ipython-input-70-70e3163a50e4>\"\u001b[0m, line \u001b[0;32m1\u001b[0m, in \u001b[0;35m<module>\u001b[0m\n    importlib.reload(read)\n",
      "  File \u001b[0;32m\"D:\\Anaconda3\\lib\\importlib\\__init__.py\"\u001b[0m, line \u001b[0;32m166\u001b[0m, in \u001b[0;35mreload\u001b[0m\n    _bootstrap._exec(spec, module)\n",
      "  File \u001b[0;32m\"<frozen importlib._bootstrap>\"\u001b[0m, line \u001b[0;32m618\u001b[0m, in \u001b[0;35m_exec\u001b[0m\n",
      "  File \u001b[0;32m\"<frozen importlib._bootstrap_external>\"\u001b[0m, line \u001b[0;32m674\u001b[0m, in \u001b[0;35mexec_module\u001b[0m\n",
      "  File \u001b[0;32m\"<frozen importlib._bootstrap_external>\"\u001b[0m, line \u001b[0;32m781\u001b[0m, in \u001b[0;35mget_code\u001b[0m\n",
      "  File \u001b[0;32m\"<frozen importlib._bootstrap_external>\"\u001b[0m, line \u001b[0;32m741\u001b[0m, in \u001b[0;35msource_to_code\u001b[0m\n",
      "\u001b[1;36m  File \u001b[1;32m\"<frozen importlib._bootstrap>\"\u001b[1;36m, line \u001b[1;32m219\u001b[1;36m, in \u001b[1;35m_call_with_frames_removed\u001b[1;36m\u001b[0m\n",
      "\u001b[1;36m  File \u001b[1;32m\"C:\\Users\\Jay\\Desktop\\capstone\\read.py\"\u001b[1;36m, line \u001b[1;32m86\u001b[0m\n\u001b[1;33m    for key, value in activity_map.items():\u001b[0m\n\u001b[1;37m                                           ^\u001b[0m\n\u001b[1;31mTabError\u001b[0m\u001b[1;31m:\u001b[0m inconsistent use of tabs and spaces in indentation\n"
     ]
    }
   ],
   "source": [
    "importlib.reload(read)"
   ]
  },
  {
   "cell_type": "code",
   "execution_count": 71,
   "metadata": {},
   "outputs": [
    {
     "ename": "TabError",
     "evalue": "inconsistent use of tabs and spaces in indentation (read.py, line 86)",
     "output_type": "error",
     "traceback": [
      "Traceback \u001b[1;36m(most recent call last)\u001b[0m:\n",
      "  File \u001b[0;32m\"D:\\Anaconda3\\lib\\site-packages\\IPython\\core\\interactiveshell.py\"\u001b[0m, line \u001b[0;32m2963\u001b[0m, in \u001b[0;35mrun_code\u001b[0m\n    exec(code_obj, self.user_global_ns, self.user_ns)\n",
      "  File \u001b[0;32m\"<ipython-input-71-70e3163a50e4>\"\u001b[0m, line \u001b[0;32m1\u001b[0m, in \u001b[0;35m<module>\u001b[0m\n    importlib.reload(read)\n",
      "  File \u001b[0;32m\"D:\\Anaconda3\\lib\\importlib\\__init__.py\"\u001b[0m, line \u001b[0;32m166\u001b[0m, in \u001b[0;35mreload\u001b[0m\n    _bootstrap._exec(spec, module)\n",
      "  File \u001b[0;32m\"<frozen importlib._bootstrap>\"\u001b[0m, line \u001b[0;32m618\u001b[0m, in \u001b[0;35m_exec\u001b[0m\n",
      "  File \u001b[0;32m\"<frozen importlib._bootstrap_external>\"\u001b[0m, line \u001b[0;32m674\u001b[0m, in \u001b[0;35mexec_module\u001b[0m\n",
      "  File \u001b[0;32m\"<frozen importlib._bootstrap_external>\"\u001b[0m, line \u001b[0;32m781\u001b[0m, in \u001b[0;35mget_code\u001b[0m\n",
      "  File \u001b[0;32m\"<frozen importlib._bootstrap_external>\"\u001b[0m, line \u001b[0;32m741\u001b[0m, in \u001b[0;35msource_to_code\u001b[0m\n",
      "\u001b[1;36m  File \u001b[1;32m\"<frozen importlib._bootstrap>\"\u001b[1;36m, line \u001b[1;32m219\u001b[1;36m, in \u001b[1;35m_call_with_frames_removed\u001b[1;36m\u001b[0m\n",
      "\u001b[1;36m  File \u001b[1;32m\"C:\\Users\\Jay\\Desktop\\capstone\\read.py\"\u001b[1;36m, line \u001b[1;32m86\u001b[0m\n\u001b[1;33m    for key, value in activity_map.items():\u001b[0m\n\u001b[1;37m                                           ^\u001b[0m\n\u001b[1;31mTabError\u001b[0m\u001b[1;31m:\u001b[0m inconsistent use of tabs and spaces in indentation\n"
     ]
    }
   ],
   "source": [
    "importlib.reload(read)"
   ]
  },
  {
   "cell_type": "code",
   "execution_count": 79,
   "metadata": {},
   "outputs": [
    {
     "data": {
      "text/plain": [
       "<module 'read' from 'C:\\\\Users\\\\Jay\\\\Desktop\\\\capstone\\\\read.py'>"
      ]
     },
     "execution_count": 79,
     "metadata": {},
     "output_type": "execute_result"
    }
   ],
   "source": [
    "importlib.reload(read)"
   ]
  },
  {
   "cell_type": "code",
   "execution_count": 80,
   "metadata": {},
   "outputs": [],
   "source": [
    "data, label = read.readData()"
   ]
  },
  {
   "cell_type": "code",
   "execution_count": 74,
   "metadata": {},
   "outputs": [],
   "source": [
    "import numpy as np"
   ]
  },
  {
   "cell_type": "code",
   "execution_count": 77,
   "metadata": {},
   "outputs": [
    {
     "ename": "NameError",
     "evalue": "name 'np' is not defined",
     "output_type": "error",
     "traceback": [
      "\u001b[1;31m---------------------------------------------------------------------------\u001b[0m",
      "\u001b[1;31mNameError\u001b[0m                                 Traceback (most recent call last)",
      "\u001b[1;32m<ipython-input-77-4ea83ea6753e>\u001b[0m in \u001b[0;36m<module>\u001b[1;34m()\u001b[0m\n\u001b[1;32m----> 1\u001b[1;33m \u001b[0mdata\u001b[0m\u001b[1;33m,\u001b[0m \u001b[0mlabel\u001b[0m \u001b[1;33m=\u001b[0m\u001b[0mread\u001b[0m\u001b[1;33m.\u001b[0m\u001b[0mreadData\u001b[0m\u001b[1;33m(\u001b[0m\u001b[1;33m)\u001b[0m\u001b[1;33m\u001b[0m\u001b[0m\n\u001b[0m",
      "\u001b[1;32m~\\Desktop\\capstone\\read.py\u001b[0m in \u001b[0;36mreadData\u001b[1;34m()\u001b[0m\n\u001b[0;32m     88\u001b[0m         \u001b[1;32mfor\u001b[0m \u001b[0mj\u001b[0m \u001b[1;32min\u001b[0m \u001b[0mrange\u001b[0m\u001b[1;33m(\u001b[0m\u001b[0mnum_act\u001b[0m\u001b[1;33m[\u001b[0m\u001b[0mvalue\u001b[0m\u001b[1;33m]\u001b[0m\u001b[1;33m)\u001b[0m\u001b[1;33m:\u001b[0m\u001b[1;33m\u001b[0m\u001b[0m\n\u001b[0;32m     89\u001b[0m             \u001b[0mX_data\u001b[0m\u001b[1;33m.\u001b[0m\u001b[0mappend\u001b[0m\u001b[1;33m(\u001b[0m\u001b[0msensor_freq\u001b[0m\u001b[1;33m[\u001b[0m\u001b[0mvalue\u001b[0m\u001b[1;33m]\u001b[0m\u001b[1;33m[\u001b[0m\u001b[0mj\u001b[0m\u001b[1;33m]\u001b[0m\u001b[1;33m)\u001b[0m\u001b[1;33m\u001b[0m\u001b[0m\n\u001b[1;32m---> 90\u001b[1;33m             \u001b[0mX_label\u001b[0m\u001b[1;33m.\u001b[0m\u001b[0mappend\u001b[0m\u001b[1;33m(\u001b[0m\u001b[0mkey\u001b[0m\u001b[1;33m)\u001b[0m\u001b[1;33m\u001b[0m\u001b[0m\n\u001b[0m\u001b[0;32m     91\u001b[0m     \u001b[0mdata\u001b[0m \u001b[1;33m=\u001b[0m \u001b[0mnp\u001b[0m\u001b[1;33m.\u001b[0m\u001b[0marray\u001b[0m\u001b[1;33m(\u001b[0m\u001b[0mX_data\u001b[0m\u001b[1;33m)\u001b[0m\u001b[1;33m\u001b[0m\u001b[0m\n\u001b[0;32m     92\u001b[0m     \u001b[0mlabel\u001b[0m \u001b[1;33m=\u001b[0m \u001b[0mnp\u001b[0m\u001b[1;33m.\u001b[0m\u001b[0marray\u001b[0m\u001b[1;33m(\u001b[0m\u001b[0mX_label\u001b[0m\u001b[1;33m)\u001b[0m\u001b[1;33m\u001b[0m\u001b[0m\n",
      "\u001b[1;31mNameError\u001b[0m: name 'np' is not defined"
     ]
    }
   ],
   "source": [
    "data, label =read.readData()"
   ]
  },
  {
   "cell_type": "code",
   "execution_count": 76,
   "metadata": {},
   "outputs": [
    {
     "data": {
      "text/plain": [
       "array([1])"
      ]
     },
     "execution_count": 76,
     "metadata": {},
     "output_type": "execute_result"
    }
   ],
   "source": [
    "np.array([1])"
   ]
  },
  {
   "cell_type": "code",
   "execution_count": 78,
   "metadata": {},
   "outputs": [
    {
     "ename": "NameError",
     "evalue": "name 'np' is not defined",
     "output_type": "error",
     "traceback": [
      "\u001b[1;31m---------------------------------------------------------------------------\u001b[0m",
      "\u001b[1;31mNameError\u001b[0m                                 Traceback (most recent call last)",
      "\u001b[1;32m<ipython-input-78-4ea83ea6753e>\u001b[0m in \u001b[0;36m<module>\u001b[1;34m()\u001b[0m\n\u001b[1;32m----> 1\u001b[1;33m \u001b[0mdata\u001b[0m\u001b[1;33m,\u001b[0m \u001b[0mlabel\u001b[0m \u001b[1;33m=\u001b[0m\u001b[0mread\u001b[0m\u001b[1;33m.\u001b[0m\u001b[0mreadData\u001b[0m\u001b[1;33m(\u001b[0m\u001b[1;33m)\u001b[0m\u001b[1;33m\u001b[0m\u001b[0m\n\u001b[0m",
      "\u001b[1;32m~\\Desktop\\capstone\\read.py\u001b[0m in \u001b[0;36mreadData\u001b[1;34m()\u001b[0m\n\u001b[0;32m     88\u001b[0m         \u001b[1;32mfor\u001b[0m \u001b[0mj\u001b[0m \u001b[1;32min\u001b[0m \u001b[0mrange\u001b[0m\u001b[1;33m(\u001b[0m\u001b[0mnum_act\u001b[0m\u001b[1;33m[\u001b[0m\u001b[0mvalue\u001b[0m\u001b[1;33m]\u001b[0m\u001b[1;33m)\u001b[0m\u001b[1;33m:\u001b[0m\u001b[1;33m\u001b[0m\u001b[0m\n\u001b[0;32m     89\u001b[0m             \u001b[0mX_data\u001b[0m\u001b[1;33m.\u001b[0m\u001b[0mappend\u001b[0m\u001b[1;33m(\u001b[0m\u001b[0msensor_freq\u001b[0m\u001b[1;33m[\u001b[0m\u001b[0mvalue\u001b[0m\u001b[1;33m]\u001b[0m\u001b[1;33m[\u001b[0m\u001b[0mj\u001b[0m\u001b[1;33m]\u001b[0m\u001b[1;33m)\u001b[0m\u001b[1;33m\u001b[0m\u001b[0m\n\u001b[1;32m---> 90\u001b[1;33m             \u001b[0mX_label\u001b[0m\u001b[1;33m.\u001b[0m\u001b[0mappend\u001b[0m\u001b[1;33m(\u001b[0m\u001b[0mkey\u001b[0m\u001b[1;33m)\u001b[0m\u001b[1;33m\u001b[0m\u001b[0m\n\u001b[0m\u001b[0;32m     91\u001b[0m     \u001b[0mdata\u001b[0m \u001b[1;33m=\u001b[0m \u001b[0mnp\u001b[0m\u001b[1;33m.\u001b[0m\u001b[0marray\u001b[0m\u001b[1;33m(\u001b[0m\u001b[0mX_data\u001b[0m\u001b[1;33m)\u001b[0m\u001b[1;33m\u001b[0m\u001b[0m\n\u001b[0;32m     92\u001b[0m     \u001b[0mlabel\u001b[0m \u001b[1;33m=\u001b[0m \u001b[0mnp\u001b[0m\u001b[1;33m.\u001b[0m\u001b[0marray\u001b[0m\u001b[1;33m(\u001b[0m\u001b[0mX_label\u001b[0m\u001b[1;33m)\u001b[0m\u001b[1;33m\u001b[0m\u001b[0m\n",
      "\u001b[1;31mNameError\u001b[0m: name 'np' is not defined"
     ]
    }
   ],
   "source": [
    "data, label =read.readData()"
   ]
  },
  {
   "cell_type": "code",
   "execution_count": 81,
   "metadata": {},
   "outputs": [
    {
     "name": "stdout",
     "output_type": "stream",
     "text": [
      "[[0 0 0 ... 0 0 0]\n",
      " [0 0 0 ... 0 0 0]\n",
      " [0 2 0 ... 0 0 0]\n",
      " ...\n",
      " [0 0 0 ... 0 0 0]\n",
      " [0 0 0 ... 0 0 0]\n",
      " [0 0 0 ... 0 0 0]]\n"
     ]
    }
   ],
   "source": [
    "print(data)"
   ]
  },
  {
   "cell_type": "code",
   "execution_count": 82,
   "metadata": {},
   "outputs": [
    {
     "data": {
      "text/plain": [
       "16200"
      ]
     },
     "execution_count": 82,
     "metadata": {},
     "output_type": "execute_result"
    }
   ],
   "source": [
    "data.size"
   ]
  },
  {
   "cell_type": "code",
   "execution_count": 83,
   "metadata": {},
   "outputs": [
    {
     "data": {
      "text/plain": [
       "27"
      ]
     },
     "execution_count": 83,
     "metadata": {},
     "output_type": "execute_result"
    }
   ],
   "source": [
    "data[0].size"
   ]
  },
  {
   "cell_type": "code",
   "execution_count": 84,
   "metadata": {},
   "outputs": [
    {
     "data": {
      "text/plain": [
       "600.0"
      ]
     },
     "execution_count": 84,
     "metadata": {},
     "output_type": "execute_result"
    }
   ],
   "source": [
    "16200/27"
   ]
  },
  {
   "cell_type": "code",
   "execution_count": 85,
   "metadata": {},
   "outputs": [],
   "source": [
    "data1 = data"
   ]
  },
  {
   "cell_type": "code",
   "execution_count": 86,
   "metadata": {},
   "outputs": [
    {
     "ename": "SyntaxError",
     "evalue": "invalid syntax (process.py, line 16)",
     "output_type": "error",
     "traceback": [
      "Traceback \u001b[1;36m(most recent call last)\u001b[0m:\n",
      "  File \u001b[0;32m\"D:\\Anaconda3\\lib\\site-packages\\IPython\\core\\interactiveshell.py\"\u001b[0m, line \u001b[0;32m2963\u001b[0m, in \u001b[0;35mrun_code\u001b[0m\n    exec(code_obj, self.user_global_ns, self.user_ns)\n",
      "\u001b[1;36m  File \u001b[1;32m\"<ipython-input-86-dd424432f878>\"\u001b[1;36m, line \u001b[1;32m1\u001b[1;36m, in \u001b[1;35m<module>\u001b[1;36m\u001b[0m\n\u001b[1;33m    import process\u001b[0m\n",
      "\u001b[1;36m  File \u001b[1;32m\"C:\\Users\\Jay\\Desktop\\capstone\\process.py\"\u001b[1;36m, line \u001b[1;32m16\u001b[0m\n\u001b[1;33m    if col_max != 0\u001b[0m\n\u001b[1;37m                   ^\u001b[0m\n\u001b[1;31mSyntaxError\u001b[0m\u001b[1;31m:\u001b[0m invalid syntax\n"
     ]
    }
   ],
   "source": [
    "import process"
   ]
  },
  {
   "cell_type": "code",
   "execution_count": 146,
   "metadata": {},
   "outputs": [
    {
     "data": {
      "text/plain": [
       "<module 'process' from 'C:\\\\Users\\\\Jay\\\\Desktop\\\\capstone\\\\process.py'>"
      ]
     },
     "execution_count": 146,
     "metadata": {},
     "output_type": "execute_result"
    }
   ],
   "source": [
    "importlib.reload(process)"
   ]
  },
  {
   "cell_type": "code",
   "execution_count": 124,
   "metadata": {},
   "outputs": [
    {
     "name": "stdout",
     "output_type": "stream",
     "text": [
      "old:1\n"
     ]
    },
    {
     "ename": "TypeError",
     "evalue": "ufunc 'add' did not contain a loop with signature matching types dtype('<U11') dtype('<U11') dtype('<U11')",
     "output_type": "error",
     "traceback": [
      "\u001b[1;31m---------------------------------------------------------------------------\u001b[0m",
      "\u001b[1;31mTypeError\u001b[0m                                 Traceback (most recent call last)",
      "\u001b[1;32m<ipython-input-124-9489beec6f8a>\u001b[0m in \u001b[0;36m<module>\u001b[1;34m()\u001b[0m\n\u001b[1;32m----> 1\u001b[1;33m \u001b[0mdata\u001b[0m \u001b[1;33m=\u001b[0m \u001b[0mprocess\u001b[0m\u001b[1;33m.\u001b[0m\u001b[0mnormalization\u001b[0m\u001b[1;33m(\u001b[0m\u001b[0mdata\u001b[0m\u001b[1;33m)\u001b[0m\u001b[1;33m\u001b[0m\u001b[0m\n\u001b[0m",
      "\u001b[1;32m~\\Desktop\\capstone\\process.py\u001b[0m in \u001b[0;36mnormalization\u001b[1;34m(input_array)\u001b[0m\n\u001b[0;32m     19\u001b[0m                                                 \u001b[0mprint\u001b[0m\u001b[1;33m(\u001b[0m\u001b[1;34m\"old:\"\u001b[0m \u001b[1;33m+\u001b[0m \u001b[0mstr\u001b[0m\u001b[1;33m(\u001b[0m\u001b[0marray\u001b[0m\u001b[1;33m[\u001b[0m\u001b[0mrow\u001b[0m\u001b[1;33m]\u001b[0m\u001b[1;33m[\u001b[0m\u001b[0mcol\u001b[0m\u001b[1;33m]\u001b[0m\u001b[1;33m)\u001b[0m\u001b[1;33m)\u001b[0m\u001b[1;33m\u001b[0m\u001b[0m\n\u001b[0;32m     20\u001b[0m                                                 \u001b[0marray\u001b[0m\u001b[1;33m[\u001b[0m\u001b[0mrow\u001b[0m\u001b[1;33m]\u001b[0m\u001b[1;33m[\u001b[0m\u001b[0mcol\u001b[0m\u001b[1;33m]\u001b[0m \u001b[1;33m/=\u001b[0m \u001b[0mfloat\u001b[0m\u001b[1;33m(\u001b[0m\u001b[0mcol_max\u001b[0m\u001b[1;33m)\u001b[0m\u001b[1;33m\u001b[0m\u001b[0m\n\u001b[1;32m---> 21\u001b[1;33m                                                 \u001b[0mprint\u001b[0m\u001b[1;33m(\u001b[0m\u001b[1;34m\"new:\"\u001b[0m \u001b[1;33m+\u001b[0m \u001b[0mstr\u001b[0m\u001b[1;33m(\u001b[0m\u001b[0marray\u001b[0m\u001b[1;33m[\u001b[0m\u001b[0mrow\u001b[0m\u001b[1;33m]\u001b[0m\u001b[1;33m[\u001b[0m\u001b[0mcol\u001b[0m\u001b[1;33m]\u001b[0m \u001b[1;33m+\u001b[0m \u001b[1;34m\" max:\"\u001b[0m \u001b[1;33m+\u001b[0m \u001b[0mstr\u001b[0m\u001b[1;33m(\u001b[0m\u001b[0mcol_max\u001b[0m\u001b[1;33m)\u001b[0m\u001b[1;33m)\u001b[0m\u001b[1;33m)\u001b[0m\u001b[1;33m\u001b[0m\u001b[0m\n\u001b[0m\u001b[0;32m     22\u001b[0m         \u001b[1;32mreturn\u001b[0m \u001b[0marray\u001b[0m\u001b[1;33m\u001b[0m\u001b[0m\n",
      "\u001b[1;31mTypeError\u001b[0m: ufunc 'add' did not contain a loop with signature matching types dtype('<U11') dtype('<U11') dtype('<U11')"
     ]
    }
   ],
   "source": [
    "data = process.normalization(data)"
   ]
  },
  {
   "cell_type": "code",
   "execution_count": 103,
   "metadata": {},
   "outputs": [
    {
     "name": "stdout",
     "output_type": "stream",
     "text": [
      "[0 0 0 0 0 0 0 0 0 0 0 0 0 0 0 0 0 0 0 0 0 0 0 0 0 0 0]\n"
     ]
    }
   ],
   "source": [
    "print(data[1])"
   ]
  },
  {
   "cell_type": "code",
   "execution_count": 110,
   "metadata": {},
   "outputs": [],
   "source": [
    "test = "
   ]
  },
  {
   "cell_type": "code",
   "execution_count": 148,
   "metadata": {},
   "outputs": [
    {
     "name": "stdout",
     "output_type": "stream",
     "text": [
      "3.0\n",
      "4.0\n",
      "5.0\n",
      "6.0\n"
     ]
    }
   ],
   "source": [
    "result = process.normalization(test)"
   ]
  },
  {
   "cell_type": "code",
   "execution_count": 147,
   "metadata": {},
   "outputs": [],
   "source": [
    "test = np.array([[1,2,3,4],[2,3,4,5],[3,4,5,6]])"
   ]
  },
  {
   "cell_type": "code",
   "execution_count": 149,
   "metadata": {},
   "outputs": [
    {
     "name": "stdout",
     "output_type": "stream",
     "text": [
      "[[0.33333333 0.5        0.6        0.66666667]\n",
      " [0.66666667 0.75       0.8        0.83333333]\n",
      " [1.         1.         1.         1.        ]]\n"
     ]
    }
   ],
   "source": [
    "print(result)"
   ]
  },
  {
   "cell_type": "code",
   "execution_count": 130,
   "metadata": {},
   "outputs": [
    {
     "data": {
      "text/plain": [
       "array([[0, 0, 0, 0],\n",
       "       [0, 0, 0, 0],\n",
       "       [1, 1, 1, 1]])"
      ]
     },
     "execution_count": 130,
     "metadata": {},
     "output_type": "execute_result"
    }
   ],
   "source": [
    "test"
   ]
  },
  {
   "cell_type": "code",
   "execution_count": 131,
   "metadata": {},
   "outputs": [
    {
     "name": "stdout",
     "output_type": "stream",
     "text": [
      "<class 'numpy.ndarray'>\n"
     ]
    }
   ],
   "source": [
    "print(type(test))"
   ]
  },
  {
   "cell_type": "code",
   "execution_count": null,
   "metadata": {},
   "outputs": [],
   "source": []
  }
 ],
 "metadata": {
  "kernelspec": {
   "display_name": "Python 3",
   "language": "python",
   "name": "python3"
  },
  "language_info": {
   "codemirror_mode": {
    "name": "ipython",
    "version": 3
   },
   "file_extension": ".py",
   "mimetype": "text/x-python",
   "name": "python",
   "nbconvert_exporter": "python",
   "pygments_lexer": "ipython3",
   "version": "3.6.5"
  }
 },
 "nbformat": 4,
 "nbformat_minor": 2
}
